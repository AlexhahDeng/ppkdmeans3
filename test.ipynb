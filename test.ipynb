{
 "cells": [
  {
   "cell_type": "code",
   "execution_count": 12,
   "metadata": {},
   "outputs": [
    {
     "name": "stdout",
     "output_type": "stream",
     "text": [
      "sum is  [ 17521.95936623 174736.63152727 127978.79994738  18007.08217012\n",
      "  31059.12822253]\n",
      "233.89180211001283\n",
      "198.78848304002435\n",
      "7.362523079391167\n"
     ]
    }
   ],
   "source": [
    "import pandas as pd \n",
    "import numpy as np\n",
    "\n",
    "df=pd.read_csv(\"data.csv\", header=None, sep=',', usecols=[x for x in range(5)], nrows=8192)\n",
    "df = df.values.tolist()\n",
    "df = np.array(df)\n",
    "# print(len(df))\n",
    "# print(df)\n",
    "np.sum(df, axis=0)\n",
    "print(\"sum is \", np.sum(df, axis=0))\n",
    "avg = np.sum(df,axis=0)/len(df)\n",
    "for i in range(1,4):\n",
    "    print(np.sum(np.square(df[i]-avg)))"
   ]
  },
  {
   "cell_type": "code",
   "execution_count": null,
   "metadata": {},
   "outputs": [],
   "source": []
  }
 ],
 "metadata": {
  "interpreter": {
   "hash": "31f2aee4e71d21fbe5cf8b01ff0e069b9275f58929596ceb00d14d90e3e16cd6"
  },
  "kernelspec": {
   "display_name": "Python 3.8.10 64-bit",
   "language": "python",
   "name": "python3"
  },
  "language_info": {
   "codemirror_mode": {
    "name": "ipython",
    "version": 3
   },
   "file_extension": ".py",
   "mimetype": "text/x-python",
   "name": "python",
   "nbconvert_exporter": "python",
   "pygments_lexer": "ipython3",
   "version": "3.8.8"
  },
  "orig_nbformat": 4
 },
 "nbformat": 4,
 "nbformat_minor": 2
}
