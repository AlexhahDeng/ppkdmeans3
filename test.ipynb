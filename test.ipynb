{
 "cells": [
  {
   "cell_type": "code",
   "execution_count": 36,
   "metadata": {},
   "outputs": [
    {
     "name": "stdout",
     "output_type": "stream",
     "text": [
      " is type error\n"
     ]
    },
    {
     "data": {
      "text/plain": [
       "array([[330.994152 ,  91.503268 , 252.6315789,  14.0350877,  32.4090608],\n",
       "       [319.1709845, 177.489177 , 243.4782609,  11.0671937,  68.3254517],\n",
       "       [230.4347826,  87.719298 , 150.       ,   7.8947368,  44.7213595],\n",
       "       [244.6428571, 196.969697 , 200.       ,  16.6666667,  55.4700196],\n",
       "       [300.9433962, 317.028986 , 200.       ,   8.3333333,  78.7400787],\n",
       "       [370.0404858, 182.788051 , 241.025641 ,   6.34278  ,  49.4652253],\n",
       "       [339.7027601, 161.904762 , 248.6486486,   6.9069069,  55.0176119],\n",
       "       [160.       , 416.666667 , 200.       ,  50.       ,  31.6227766],\n",
       "       [247.6190476, 115.384615 , 171.4285714,  13.1868132,  40.824829 ],\n",
       "       [759.0954774,  58.039216 , 215.3846154,   4.2232278,  44.0315286],\n",
       "       [501.8145161,  86.021505 , 250.       ,   8.0645161,  45.8257569],\n",
       "       [190.5660377, 192.982456 , 170.       ,   8.9473684,  69.8490711],\n",
       "       [398.2993197,  81.792319 , 205.1282051,   5.3981107,  50.5284573],\n",
       "       [247.4576271,  59.52381  , 144.8275862,   5.1724138,  46.5352864],\n",
       "       [120.       , 200.       , 114.2857143,  19.047619 ,  30.6186218],\n",
       "       [560.9375   ,  50.       , 184.6153846,   7.3846154,  35.8430219],\n",
       "       [217.9487179, 104.761905 , 162.5      ,  10.8333333,  42.8289566],\n",
       "       [114.2857143, 111.111111 , 109.0909091,  10.9090909,  26.3523138],\n",
       "       [382.2222222,  77.235772 , 190.6976744,   4.5404208,  59.6439964],\n",
       "       [276.744186 , 115.384615 , 160.       ,  11.4285714,  38.1881308]])"
      ]
     },
     "execution_count": 36,
     "metadata": {},
     "output_type": "execute_result"
    }
   ],
   "source": [
    "import csv\n",
    "import numpy as np\n",
    "\n",
    "csvFile = open(\"data.csv\")\n",
    "reader = csv.reader(csvFile)\n",
    "\n",
    "result = []\n",
    "\n",
    "for item in reader:\n",
    "    # print(type(item))\n",
    "    try:\n",
    "        result.append([float(item[0]), float(item[1]),float(item[2]),float(item[3]),float(item[4])])\n",
    "    except:\n",
    "        print(\" is type error\")\n",
    "    if(reader.line_num == 21):\n",
    "        break\n",
    "\n",
    "csvFile.close()\n",
    "# print(result)\n",
    "arr = np.asarray(result)\n",
    "arr\n"
   ]
  },
  {
   "cell_type": "code",
   "execution_count": 26,
   "metadata": {},
   "outputs": [
    {
     "data": {
      "text/plain": [
       "array([[319.1709845, 177.489177 , 243.4782609,  11.0671937,  68.3254517],\n",
       "       [230.4347826,  87.719298 , 150.       ,   7.8947368,  44.7213595],\n",
       "       [244.6428571, 196.969697 , 200.       ,  16.6666667,  55.4700196]])"
      ]
     },
     "execution_count": 26,
     "metadata": {},
     "output_type": "execute_result"
    }
   ],
   "source": [
    "k_cen=np.array([arr[1],arr[2],arr[3]])\n",
    "k_cen"
   ]
  },
  {
   "cell_type": "code",
   "execution_count": 27,
   "metadata": {},
   "outputs": [
    {
     "data": {
      "text/plain": [
       "array([332.26110471, 151.80663587, 200.72461569,  12.1254901 ,\n",
       "        49.8340916 ])"
      ]
     },
     "execution_count": 27,
     "metadata": {},
     "output_type": "execute_result"
    }
   ],
   "source": [
    "node_cen = np.empty([5], dtype=float)\n",
    "for item in arr:\n",
    "    for i in range(5):\n",
    "        node_cen[i] += item[i]\n",
    "\n",
    "node_cen = node_cen/len(arr)\n",
    "node_cen\n"
   ]
  },
  {
   "cell_type": "code",
   "execution_count": 30,
   "metadata": {},
   "outputs": [
    {
     "data": {
      "text/plain": [
       "[600.3737467973967, 3418.5625381535383, 1953.9140885109325]"
      ]
     },
     "execution_count": 30,
     "metadata": {},
     "output_type": "execute_result"
    }
   ],
   "source": [
    "#计算距离\n",
    "dist=[]\n",
    "for cen in k_cen:\n",
    "    d = cen-node_cen\n",
    "    d = d*d\n",
    "    d = np.sum(d)/len(node_cen)\n",
    "    dist.append(d)\n",
    "clo_k = k_cen[0]\n",
    "dist"
   ]
  },
  {
   "cell_type": "code",
   "execution_count": 35,
   "metadata": {},
   "outputs": [
    {
     "name": "stdout",
     "output_type": "stream",
     "text": [
      "col max is  [759.0954774 416.666667  252.6315789  50.         78.7400787]\n",
      "col min is  [114.2857143  50.        109.0909091   4.2232278  26.3523138]\n"
     ]
    }
   ],
   "source": [
    "col_max = np.max(arr, axis=0)\n",
    "print(\"col max is \", col_max)\n",
    "col_min = np.min(arr, axis=0)\n",
    "print(\"col min is \", col_min)\n",
    "# v = np.array([5], dtype=float)\n",
    "# for cen in k_cen:\n",
    "#     u = cen - clo_k\n",
    "#     for i in range(len(u)):\n",
    "#         if u[i]>0:\n",
    "#             v[i]=col_max[i]\n",
    "#         else:\n",
    "#             v[i]=col_min[i]\n",
    "#     dist_clo_v=np.sum((clo_k-v)**2)/len(v)\n",
    "#     dist_k_v=np.sum((cen-v)**2)/len(v)\n",
    "\n",
    "\n"
   ]
  }
 ],
 "metadata": {
  "interpreter": {
   "hash": "31f2aee4e71d21fbe5cf8b01ff0e069b9275f58929596ceb00d14d90e3e16cd6"
  },
  "kernelspec": {
   "display_name": "Python 3.8.10 64-bit",
   "language": "python",
   "name": "python3"
  },
  "language_info": {
   "codemirror_mode": {
    "name": "ipython",
    "version": 3
   },
   "file_extension": ".py",
   "mimetype": "text/x-python",
   "name": "python",
   "nbconvert_exporter": "python",
   "pygments_lexer": "ipython3",
   "version": "3.8.10"
  },
  "orig_nbformat": 4
 },
 "nbformat": 4,
 "nbformat_minor": 2
}
