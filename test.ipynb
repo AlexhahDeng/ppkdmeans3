{
 "cells": [
  {
   "cell_type": "code",
   "execution_count": 125,
   "metadata": {},
   "outputs": [
    {
     "name": "stdout",
     "output_type": "stream",
     "text": [
      " is type error\n"
     ]
    },
    {
     "data": {
      "text/plain": [
       "array([330.994152 , 319.1709845, 230.4347826, 244.6428571, 300.9433962,\n",
       "       370.0404858, 339.7027601, 160.       , 247.6190476, 759.0954774,\n",
       "       501.8145161, 190.5660377, 398.2993197, 247.4576271, 120.       ,\n",
       "       560.9375   , 217.9487179, 114.2857143, 382.2222222])"
      ]
     },
     "execution_count": 125,
     "metadata": {},
     "output_type": "execute_result"
    }
   ],
   "source": [
    "import csv\n",
    "import numpy as np\n",
    "\n",
    "csvFile = open(\"data.csv\")\n",
    "reader = csv.reader(csvFile)\n",
    "\n",
    "result = []\n",
    "\n",
    "for item in reader:\n",
    "    # print(type(item))\n",
    "    try:\n",
    "        result.append(float(item[0]))\n",
    "    except:\n",
    "        print(\" is type error\")\n",
    "    if(reader.line_num == 20):\n",
    "        break\n",
    "\n",
    "csvFile.close()\n",
    "# print(result)\n",
    "arr = np.asarray(result)\n",
    "arr\n"
   ]
  }
 ],
 "metadata": {
  "interpreter": {
   "hash": "31f2aee4e71d21fbe5cf8b01ff0e069b9275f58929596ceb00d14d90e3e16cd6"
  },
  "kernelspec": {
   "display_name": "Python 3.8.10 64-bit",
   "language": "python",
   "name": "python3"
  },
  "language_info": {
   "codemirror_mode": {
    "name": "ipython",
    "version": 3
   },
   "file_extension": ".py",
   "mimetype": "text/x-python",
   "name": "python",
   "nbconvert_exporter": "python",
   "pygments_lexer": "ipython3",
   "version": "3.8.10"
  },
  "orig_nbformat": 4
 },
 "nbformat": 4,
 "nbformat_minor": 2
}
