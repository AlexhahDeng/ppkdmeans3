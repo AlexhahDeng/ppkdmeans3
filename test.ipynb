{
 "cells": [
  {
   "cell_type": "code",
   "execution_count": 21,
   "metadata": {},
   "outputs": [
    {
     "name": "stdout",
     "output_type": "stream",
     "text": [
      "[[  0.         85.        226.0869565  10.2766798  35.0401292]\n",
      " [330.994152   91.503268  252.6315789  14.0350877  32.4090608]\n",
      " [319.1709845 177.489177  243.4782609  11.0671937  68.3254517]\n",
      " [230.4347826  87.719298  150.          7.8947368  44.7213595]\n",
      " [244.6428571 196.969697  200.         16.6666667  55.4700196]\n",
      " [300.9433962 317.028986  200.          8.3333333  78.7400787]\n",
      " [370.0404858 182.788051  241.025641    6.34278    49.4652253]\n",
      " [339.7027601 161.904762  248.6486486   6.9069069  55.0176119]\n",
      " [160.        416.666667  200.         50.         31.6227766]\n",
      " [247.6190476 115.384615  171.4285714  13.1868132  40.824829 ]\n",
      " [759.0954774  58.039216  215.3846154   4.2232278  44.0315286]\n",
      " [501.8145161  86.021505  250.          8.0645161  45.8257569]\n",
      " [190.5660377 192.982456  170.          8.9473684  69.8490711]\n",
      " [398.2993197  81.792319  205.1282051   5.3981107  50.5284573]\n",
      " [247.4576271  59.52381   144.8275862   5.1724138  46.5352864]\n",
      " [120.        200.        114.2857143  19.047619   30.6186218]\n",
      " [560.9375     50.        184.6153846   7.3846154  35.8430219]\n",
      " [217.9487179 104.761905  162.5        10.8333333  42.8289566]\n",
      " [114.2857143 111.111111  109.0909091  10.9090909  26.3523138]\n",
      " [382.2222222  77.235772  190.6976744   4.5404208  59.6439964]]\n"
     ]
    },
    {
     "ename": "IndexError",
     "evalue": "only integers, slices (`:`), ellipsis (`...`), numpy.newaxis (`None`) and integer or boolean arrays are valid indices",
     "output_type": "error",
     "traceback": [
      "\u001b[0;31m---------------------------------------------------------------------------\u001b[0m",
      "\u001b[0;31mIndexError\u001b[0m                                Traceback (most recent call last)",
      "\u001b[0;32m/tmp/ipykernel_22253/1210654570.py\u001b[0m in \u001b[0;36m<module>\u001b[0;34m\u001b[0m\n\u001b[1;32m      8\u001b[0m \u001b[0mprint\u001b[0m\u001b[0;34m(\u001b[0m\u001b[0mdf\u001b[0m\u001b[0;34m)\u001b[0m\u001b[0;34m\u001b[0m\u001b[0;34m\u001b[0m\u001b[0m\n\u001b[1;32m      9\u001b[0m \u001b[0mnp\u001b[0m\u001b[0;34m.\u001b[0m\u001b[0msum\u001b[0m\u001b[0;34m(\u001b[0m\u001b[0mdf\u001b[0m\u001b[0;34m,\u001b[0m \u001b[0maxis\u001b[0m\u001b[0;34m=\u001b[0m\u001b[0;36m0\u001b[0m\u001b[0;34m)\u001b[0m\u001b[0;34m\u001b[0m\u001b[0;34m\u001b[0m\u001b[0m\n\u001b[0;32m---> 10\u001b[0;31m \u001b[0mprint\u001b[0m\u001b[0;34m(\u001b[0m\u001b[0mdf\u001b[0m\u001b[0;34m[\u001b[0m\u001b[0;36m10\u001b[0m\u001b[0;34m,\u001b[0m\u001b[0;36m0\u001b[0m\u001b[0;34m]\u001b[0m\u001b[0;34m+\u001b[0m\u001b[0mdf\u001b[0m\u001b[0;34m[\u001b[0m\u001b[0;36m11.0\u001b[0m\u001b[0;34m]\u001b[0m\u001b[0;34m+\u001b[0m\u001b[0mdf\u001b[0m\u001b[0;34m[\u001b[0m\u001b[0;36m15\u001b[0m\u001b[0;34m,\u001b[0m\u001b[0;36m0\u001b[0m\u001b[0;34m]\u001b[0m\u001b[0;34m)\u001b[0m\u001b[0;34m\u001b[0m\u001b[0;34m\u001b[0m\u001b[0m\n\u001b[0m",
      "\u001b[0;31mIndexError\u001b[0m: only integers, slices (`:`), ellipsis (`...`), numpy.newaxis (`None`) and integer or boolean arrays are valid indices"
     ]
    }
   ],
   "source": [
    "import pandas as pd \n",
    "import numpy as np\n",
    "\n",
    "df=pd.read_csv(\"data.csv\", header=None, sep=',', usecols=[x for x in range(5)], nrows=20)\n",
    "df = df.values.tolist()\n",
    "df = np.array(df)\n",
    "# print(len(df))\n",
    "print(df)\n",
    "np.sum(df, axis=0)\n",
    "# print(df[10,0]+df[11.0]+df[15,0])"
   ]
  },
  {
   "cell_type": "code",
   "execution_count": null,
   "metadata": {},
   "outputs": [],
   "source": []
  }
 ],
 "metadata": {
  "interpreter": {
   "hash": "31f2aee4e71d21fbe5cf8b01ff0e069b9275f58929596ceb00d14d90e3e16cd6"
  },
  "kernelspec": {
   "display_name": "Python 3.8.10 64-bit",
   "language": "python",
   "name": "python3"
  },
  "language_info": {
   "codemirror_mode": {
    "name": "ipython",
    "version": 3
   },
   "file_extension": ".py",
   "mimetype": "text/x-python",
   "name": "python",
   "nbconvert_exporter": "python",
   "pygments_lexer": "ipython3",
   "version": "3.8.8"
  },
  "orig_nbformat": 4
 },
 "nbformat": 4,
 "nbformat_minor": 2
}
