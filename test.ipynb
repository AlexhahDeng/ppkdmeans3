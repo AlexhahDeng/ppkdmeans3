{
 "cells": [
  {
   "cell_type": "code",
   "execution_count": 38,
   "metadata": {},
   "outputs": [
    {
     "name": "stdout",
     "output_type": "stream",
     "text": [
      "variance is  1925.8045337261824\n"
     ]
    }
   ],
   "source": [
    "import csv\n",
    "import numpy as np\n",
    "\n",
    "csvFile = open(\"data.csv\")\n",
    "reader = csv.reader(csvFile)\n",
    "\n",
    "result = []\n",
    "\n",
    "for item in reader:\n",
    "    result.append(float(item[2]))\n",
    "    if(reader.line_num == 8192):\n",
    "        break\n",
    "\n",
    "csvFile.close()\n",
    "# print(result)\n",
    "arr = np.asarray(result)\n",
    "print(\"variance is \", np.var(arr))\n"
   ]
  },
  {
   "cell_type": "code",
   "execution_count": 29,
   "metadata": {},
   "outputs": [
    {
     "name": "stdout",
     "output_type": "stream",
     "text": [
      "17835.336537531897\n",
      "avg is  217.08586165050002\n"
     ]
    }
   ],
   "source": [
    "# print(type(result[0]))\n",
    "arr = np.asarray(result)\n",
    "print(\"variance is \", np.var(arr))\n",
    "\n",
    "avg = np.sum(arr)/len(result) # 平均值\n",
    "print(\"avg is \", avg)\n",
    "arr = arr - avg               # 每个元素减去平均值\n",
    "\n",
    "arr = arr * arr\n",
    "# print(arr)\n",
    "# print(np.sum(arr)/len(result))\n"
   ]
  }
 ],
 "metadata": {
  "interpreter": {
   "hash": "31f2aee4e71d21fbe5cf8b01ff0e069b9275f58929596ceb00d14d90e3e16cd6"
  },
  "kernelspec": {
   "display_name": "Python 3.8.10 64-bit",
   "language": "python",
   "name": "python3"
  },
  "language_info": {
   "codemirror_mode": {
    "name": "ipython",
    "version": 3
   },
   "file_extension": ".py",
   "mimetype": "text/x-python",
   "name": "python",
   "nbconvert_exporter": "python",
   "pygments_lexer": "ipython3",
   "version": "3.8.10"
  },
  "orig_nbformat": 4
 },
 "nbformat": 4,
 "nbformat_minor": 2
}
