{
 "cells": [
  {
   "cell_type": "code",
   "execution_count": 39,
   "metadata": {},
   "outputs": [],
   "source": [
    "import csv\n",
    "import numpy as np\n",
    "\n",
    "csvFile = open(\"data.csv\")\n",
    "reader = csv.reader(csvFile)\n",
    "\n",
    "result = []\n",
    "\n",
    "for item in reader:\n",
    "    result.append(float(item[4]))\n",
    "    if(reader.line_num == 20):\n",
    "        break\n",
    "\n",
    "csvFile.close()\n",
    "# print(result)"
   ]
  },
  {
   "cell_type": "code",
   "execution_count": 40,
   "metadata": {},
   "outputs": [
    {
     "name": "stdout",
     "output_type": "stream",
     "text": [
      "189.03517937546223\n",
      "189.03517937546275\n"
     ]
    }
   ],
   "source": [
    "# print(type(result[0]))\n",
    "arr = np.asarray(result)\n",
    "arr_sum = np.sum(arr)\n",
    "print(np.var(arr))\n",
    "print((np.sum(arr.dot(arr))-(arr_sum**2)/len(result))/len(result)) #"
   ]
  }
 ],
 "metadata": {
  "interpreter": {
   "hash": "31f2aee4e71d21fbe5cf8b01ff0e069b9275f58929596ceb00d14d90e3e16cd6"
  },
  "kernelspec": {
   "display_name": "Python 3.8.10 64-bit",
   "language": "python",
   "name": "python3"
  },
  "language_info": {
   "codemirror_mode": {
    "name": "ipython",
    "version": 3
   },
   "file_extension": ".py",
   "mimetype": "text/x-python",
   "name": "python",
   "nbconvert_exporter": "python",
   "pygments_lexer": "ipython3",
   "version": "3.8.10"
  },
  "orig_nbformat": 4
 },
 "nbformat": 4,
 "nbformat_minor": 2
}
