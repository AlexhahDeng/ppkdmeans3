{
 "cells": [
  {
   "cell_type": "code",
   "execution_count": 7,
   "metadata": {},
   "outputs": [
    {
     "name": "stdout",
     "output_type": "stream",
     "text": [
      "36.85754453377114\n",
      "30.59222613493239\n",
      "121.60520377726772\n"
     ]
    },
    {
     "data": {
      "text/plain": [
       "[3, 451, 222, 3, 42]"
      ]
     },
     "execution_count": 7,
     "metadata": {},
     "output_type": "execute_result"
    }
   ],
   "source": [
    "import pandas as pd \n",
    "import numpy as np\n",
    "\n",
    "df=pd.read_csv(\"data.csv\", header=None, sep=',', usecols=[x for x in range(5)], nrows=20)\n",
    "df = df.values.tolist()\n",
    "df = np.array(df)\n",
    "# print(len(df))\n",
    "# print(df)\n",
    "np.sum(df, axis=0)\n",
    "# print(\"sum is \", np.sum(df, axis=0))\n",
    "avg = np.sum(df,axis=0)/len(df)\n",
    "for i in range(1,4):\n",
    "    print(np.sum(np.square(df[i]-avg)))\n",
    "tot = [0 for i in range(5)]\n",
    "for i in [0,1,2,6,7,10,11,13,16,19]:\n",
    "    for j in range(5):\n",
    "        tot[j] = tot[j] + int(df[i][j])\n",
    "tot"
   ]
  },
  {
   "cell_type": "code",
   "execution_count": null,
   "metadata": {},
   "outputs": [],
   "source": []
  }
 ],
 "metadata": {
  "interpreter": {
   "hash": "31f2aee4e71d21fbe5cf8b01ff0e069b9275f58929596ceb00d14d90e3e16cd6"
  },
  "kernelspec": {
   "display_name": "Python 3.8.10 64-bit",
   "language": "python",
   "name": "python3"
  },
  "language_info": {
   "codemirror_mode": {
    "name": "ipython",
    "version": 3
   },
   "file_extension": ".py",
   "mimetype": "text/x-python",
   "name": "python",
   "nbconvert_exporter": "python",
   "pygments_lexer": "ipython3",
   "version": "3.8.8"
  },
  "orig_nbformat": 4
 },
 "nbformat": 4,
 "nbformat_minor": 2
}
