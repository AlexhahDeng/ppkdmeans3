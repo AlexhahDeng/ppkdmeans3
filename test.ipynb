{
 "cells": [
  {
   "cell_type": "code",
   "execution_count": null,
   "metadata": {},
   "outputs": [
    {
     "name": "stdout",
     "output_type": "stream",
     "text": [
      "col max is  [ 4 75 25  5  7] \n",
      " col min is  [ 0 11 10  0  2]\n",
      "[ 0.85 32.75 19.1   0.65  4.2 ]\n",
      "39.59847202237613 36.22771510411435 111.12081462994905\n"
     ]
    }
   ],
   "source": [
    "import pandas as pd \n",
    "import numpy as np\n",
    "\n",
    "def dist(a, b):\n",
    "    return np.sum(np.square(a-b))\n",
    "\n",
    "def new_cen(df, index):\n",
    "    tot = [0 for i in range(5)]\n",
    "    for i in index:\n",
    "        for j in range(5):\n",
    "            tot[j] = tot[j] + int(df[i][j])\n",
    "    return tot\n",
    "\n",
    "df=pd.read_csv(\"data.csv\", header=None, sep=',', usecols=[x for x in range(5)], nrows=20)\n",
    "df = df.values.tolist()\n",
    "\n",
    "tree = []\n",
    "for i in [0, 1, 2, 3, 4, 5, 6, 7, 8, 9, 10, 11, 12, 13, 14, 15, 16, 17, 18, 19]:\n",
    "    tree.append([int(n) for n in df[i]])\n",
    "tree = np.array(tree)\n",
    "df = np.array(df)\n",
    "avg = np.sum(df,axis=0)\n",
    "print(\"tot sum of every dimension \", avg)\n",
    "\n",
    "col_max = tree.max(axis=0)\n",
    "col_min = tree.min(axis=0)\n",
    "\n",
    "print(\"col max is \", col_max, \"\\n\", \"col min is \", col_min)\n",
    "\n",
    "c1 = df[1]\n",
    "c2 = df[2]\n",
    "c3 = df[3]\n",
    "\n",
    "v = np.array([0 for i in range(5)])\n",
    "\n",
    "node_cen = np.sum(tree, axis=0)/len(tree)\n",
    "print(node_cen)\n",
    "print(dist(c1, node_cen), dist(c2, node_cen), dist(c3, node_cen))\n",
    "# for i in range(5):\n",
    "#     if(curr[i]-k_clo[i]>0):\n",
    "#         v[i]=int(col_max[i])\n",
    "#     else:\n",
    "#         v[i]=int(col_min[i])\n",
    "# print(v)\n",
    "# print(\"v,z* \", dist(k_clo,v),\"\\n\",\"v,z \",dist(curr,v))\n"
   ]
  },
  {
   "cell_type": "code",
   "execution_count": null,
   "metadata": {},
   "outputs": [],
   "source": []
  }
 ],
 "metadata": {
  "interpreter": {
   "hash": "31f2aee4e71d21fbe5cf8b01ff0e069b9275f58929596ceb00d14d90e3e16cd6"
  },
  "kernelspec": {
   "display_name": "Python 3.8.10 64-bit",
   "language": "python",
   "name": "python3"
  },
  "language_info": {
   "codemirror_mode": {
    "name": "ipython",
    "version": 3
   },
   "file_extension": ".py",
   "mimetype": "text/x-python",
   "name": "python",
   "nbconvert_exporter": "python",
   "pygments_lexer": "ipython3",
   "version": "3.8.10"
  },
  "orig_nbformat": 4
 },
 "nbformat": 4,
 "nbformat_minor": 2
}
