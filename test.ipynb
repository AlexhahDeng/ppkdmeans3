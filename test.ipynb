{
 "cells": [
  {
   "cell_type": "code",
   "execution_count": 107,
   "metadata": {},
   "outputs": [
    {
     "name": "stdout",
     "output_type": "stream",
     "text": [
      "variance is  65743.04497852497\n"
     ]
    }
   ],
   "source": [
    "import csv\n",
    "import numpy as np\n",
    "\n",
    "csvFile = open(\"data.csv\")\n",
    "reader = csv.reader(csvFile)\n",
    "\n",
    "result = []\n",
    "\n",
    "for item in reader:\n",
    "    try:\n",
    "        result.append(float(item[1]))\n",
    "    except:\n",
    "        result.append(0)\n",
    "        print(\"type error\")\n",
    "    if(reader.line_num == 8192):\n",
    "        break\n",
    "\n",
    "csvFile.close()\n",
    "# print(result)\n",
    "arr = np.asarray(result)\n",
    "print(\"variance is \", np.var(arr))\n"
   ]
  },
  {
   "cell_type": "code",
   "execution_count": 110,
   "metadata": {},
   "outputs": [
    {
     "data": {
      "text/plain": [
       "82430.82802244707"
      ]
     },
     "execution_count": 110,
     "metadata": {},
     "output_type": "execute_result"
    }
   ],
   "source": [
    "arr.sort()\n",
    "# print(arr)\n",
    "half = arr[4096:]\n",
    "# print(half-np.average(half))\n",
    "\n",
    "np.var(half)\n"
   ]
  }
 ],
 "metadata": {
  "interpreter": {
   "hash": "31f2aee4e71d21fbe5cf8b01ff0e069b9275f58929596ceb00d14d90e3e16cd6"
  },
  "kernelspec": {
   "display_name": "Python 3.8.10 64-bit",
   "language": "python",
   "name": "python3"
  },
  "language_info": {
   "codemirror_mode": {
    "name": "ipython",
    "version": 3
   },
   "file_extension": ".py",
   "mimetype": "text/x-python",
   "name": "python",
   "nbconvert_exporter": "python",
   "pygments_lexer": "ipython3",
   "version": "3.8.10"
  },
  "orig_nbformat": 4
 },
 "nbformat": 4,
 "nbformat_minor": 2
}
